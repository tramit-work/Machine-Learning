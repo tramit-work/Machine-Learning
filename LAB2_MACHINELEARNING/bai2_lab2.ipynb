{
  "nbformat": 4,
  "nbformat_minor": 0,
  "metadata": {
    "colab": {
      "provenance": []
    },
    "kernelspec": {
      "name": "python3",
      "display_name": "Python 3"
    },
    "language_info": {
      "name": "python"
    }
  },
  "cells": [
    {
      "cell_type": "code",
      "execution_count": 3,
      "metadata": {
        "colab": {
          "base_uri": "https://localhost:8080/"
        },
        "id": "RwpChedXfJsT",
        "outputId": "b39bd618-11e6-43ad-c5c1-e3f3358b291f"
      },
      "outputs": [
        {
          "output_type": "stream",
          "name": "stdout",
          "text": [
            "     Age Sex      BP Cholesterol  Na_to_K   Drug\n",
            "0     23   F    HIGH        HIGH   25.355  DrugY\n",
            "1     47   M     LOW        HIGH   13.093  drugC\n",
            "2     47   M     LOW        HIGH   10.114  drugC\n",
            "3     28   F  NORMAL        HIGH    7.798  drugX\n",
            "4     61   F     LOW        HIGH   18.043  DrugY\n",
            "..   ...  ..     ...         ...      ...    ...\n",
            "195   56   F     LOW        HIGH   11.567  drugC\n",
            "196   16   M     LOW        HIGH   12.006  drugC\n",
            "197   52   M  NORMAL        HIGH    9.894  drugX\n",
            "198   23   M  NORMAL      NORMAL   14.020  drugX\n",
            "199   40   F     LOW      NORMAL   11.349  drugX\n",
            "\n",
            "[200 rows x 6 columns]\n"
          ]
        }
      ],
      "source": [
        "import pandas as pd\n",
        "from sklearn.model_selection import train_test_split\n",
        "from sklearn.preprocessing import LabelEncoder\n",
        "from sklearn.naive_bayes import GaussianNB\n",
        "from sklearn.metrics import accuracy_score, classification_report\n",
        "data = pd.read_csv('/drug200.csv')\n",
        "print(data)"
      ]
    },
    {
      "cell_type": "code",
      "source": [
        "label_encoder = LabelEncoder()\n",
        "data['Sex'] = label_encoder.fit_transform(data['Sex'])\n",
        "data['BP'] = label_encoder.fit_transform(data['BP'])\n",
        "data['Cholesterol'] = label_encoder.fit_transform(data['Cholesterol'])"
      ],
      "metadata": {
        "id": "-dvOY6KGgGpO"
      },
      "execution_count": 4,
      "outputs": []
    },
    {
      "cell_type": "code",
      "source": [
        "X = data[['Age', 'Sex', 'BP', 'Cholesterol', 'Na_to_K']]\n",
        "y = data['Drug']"
      ],
      "metadata": {
        "id": "gVVxqFPOgKiq"
      },
      "execution_count": 5,
      "outputs": []
    },
    {
      "cell_type": "code",
      "source": [
        "X_train, X_test, y_train, y_test = train_test_split(X, y, test_size=0.2, random_state=42)"
      ],
      "metadata": {
        "id": "uNOlqhxdgUR3"
      },
      "execution_count": 6,
      "outputs": []
    },
    {
      "cell_type": "code",
      "source": [
        "gnb = GaussianNB()\n",
        "gnb.fit(X_train, y_train)\n",
        "y_pred = gnb.predict(X_test)"
      ],
      "metadata": {
        "id": "lH3Xtj91gWqK"
      },
      "execution_count": 7,
      "outputs": []
    },
    {
      "cell_type": "code",
      "source": [
        "print(\"Độ chính xác của mô hình:\", accuracy_score(y_test, y_pred))\n",
        "print(\"Báo cáo phân loại:\\n\", classification_report(y_test, y_pred))"
      ],
      "metadata": {
        "colab": {
          "base_uri": "https://localhost:8080/"
        },
        "id": "B4-BVCGjgbZ3",
        "outputId": "fa5b3d3c-cb00-42c2-a8d9-c7ae5785b27c"
      },
      "execution_count": 8,
      "outputs": [
        {
          "output_type": "stream",
          "name": "stdout",
          "text": [
            "Độ chính xác của mô hình: 0.925\n",
            "Báo cáo phân loại:\n",
            "               precision    recall  f1-score   support\n",
            "\n",
            "       DrugY       1.00      0.80      0.89        15\n",
            "       drugA       0.86      1.00      0.92         6\n",
            "       drugB       0.75      1.00      0.86         3\n",
            "       drugC       0.83      1.00      0.91         5\n",
            "       drugX       1.00      1.00      1.00        11\n",
            "\n",
            "    accuracy                           0.93        40\n",
            "   macro avg       0.89      0.96      0.92        40\n",
            "weighted avg       0.94      0.93      0.92        40\n",
            "\n"
          ]
        }
      ]
    }
  ]
}