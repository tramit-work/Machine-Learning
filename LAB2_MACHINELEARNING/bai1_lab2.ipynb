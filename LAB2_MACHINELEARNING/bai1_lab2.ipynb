{
  "nbformat": 4,
  "nbformat_minor": 0,
  "metadata": {
    "colab": {
      "provenance": []
    },
    "kernelspec": {
      "name": "python3",
      "display_name": "Python 3"
    },
    "language_info": {
      "name": "python"
    }
  },
  "cells": [
    {
      "cell_type": "code",
      "execution_count": 49,
      "metadata": {
        "colab": {
          "base_uri": "https://localhost:8080/"
        },
        "id": "IB_Tuef0Mk-c",
        "outputId": "58d3ec39-7fed-4be2-8b35-cf4f0f19c167"
      },
      "outputs": [
        {
          "output_type": "stream",
          "name": "stdout",
          "text": [
            "                                                 Text     Label\n",
            "0   The impact of educational reforms remains unce...  positive\n",
            "1   Critics argue that recent improvements in the ...  negative\n",
            "2   Innovative teaching methods have led to unexpe...  positive\n",
            "3   Despite budget constraints, the school has man...  positive\n",
            "4   The true effectiveness of online learning plat...  negative\n",
            "5   The role of standardized testing in education ...  positive\n",
            "6   School curricula should focus more on practica...  positive\n",
            "7   Educational technology has the potential to re...  positive\n",
            "8   Charter schools offer alternatives to traditio...  positive\n",
            "9   Teacher tenure policies aim to protect educato...  positive\n",
            "10  Special education programs strive to support d...  positive\n",
            "11  Early childhood education lays the foundation ...  positive\n",
            "12  Higher education should prioritize critical th...  positive\n",
            "13  Online learning platforms provide flexibility,...  positive\n",
            "14  Education funding disparities perpetuate inequ...  positive\n",
            "15  Standardized curricula limit teachers' creativ...  negative\n",
            "16  The emphasis on testing leads to a narrow focu...  negative\n",
            "17  Privatization efforts in education prioritize ...  negative\n",
            "18  Resource allocation in schools often favors af...  negative\n",
            "19  Educational policies fail to address the diver...  negative\n",
            "20  Charter schools divert resources from public e...  negative\n",
            "21  Teacher evaluations based on student test scor...  negative\n",
            "22  The reliance on technology in education leads ...  negative\n",
            "23  Education reform efforts often neglect input f...  negative\n",
            "24  Budget cuts in education result in larger clas...  negative\n",
            "25  Standardized testing perpetuates a culture of ...  positive\n",
            "26  Educators should receive more support and reco...  positive\n",
            "27  Critical thinking skills are essential for nav...  positive\n",
            "28  Project-based learning fosters creativity and ...  positive\n",
            "29  Access to quality education should be a univer...  positive\n",
            "30  Education policies should be informed by resea...  positive\n",
            "31  Teacher diversity is important for promoting i...  positive\n",
            "32  Education should empower students to become li...  positive\n",
            "33  Standardized tests fail to capture the full ra...  negative\n",
            "34  Educational standards should be flexible to ac...  negative\n",
            "35  The focus on standardized testing narrows the ...  negative\n",
            "36  Privatization of education leads to disparitie...  negative\n",
            "37  Underfunded schools struggle to provide adequa...  negative\n",
            "38  Educational technology can be isolating and im...  negative\n",
            "39  Public education should be funded adequately t...  negative\n",
            "40  Standardized testing perpetuates inequities by...  negative\n",
            "41  Educational initiatives often prioritize short...  positive\n",
            "42  Teacher training programs should focus more on...  positive\n",
            "43  Parental involvement is crucial for student su...  positive\n",
            "44  Project-based learning encourages collaboratio...  positive\n",
            "45  Education should emphasize global citizenship ...  positive\n",
            "46  Standardized tests create unnecessary stress a...  negative\n",
            "47  Educational policies should be responsive to t...  negative\n",
            "48  Charter schools drain resources from public ed...  negative\n",
            "49  Educational inequities persist despite efforts...  negative\n",
            "50  Online education offers flexibility but lacks ...  negative\n",
            "51  Teacher evaluation systems should incorporate ...  negative\n"
          ]
        }
      ],
      "source": [
        "import pandas as pd\n",
        "from sklearn.model_selection import train_test_split\n",
        "from sklearn.feature_extraction.text import CountVectorizer\n",
        "from sklearn.naive_bayes import BernoulliNB, MultinomialNB\n",
        "from sklearn.metrics import accuracy_score, classification_report\n",
        "data = pd.read_csv(r\"/Education.csv\")\n",
        "print(data)\n",
        "X = data['Text']\n",
        "y = data['Label'].map({'positive': 1, 'negative': 0})"
      ]
    },
    {
      "cell_type": "markdown",
      "source": [
        "# Mục mới"
      ],
      "metadata": {
        "id": "Yxg1YNSd9260"
      }
    },
    {
      "cell_type": "markdown",
      "source": [
        "# Mục mới"
      ],
      "metadata": {
        "id": "uwhj522w93ce"
      }
    },
    {
      "cell_type": "code",
      "source": [
        "vectorizer = CountVectorizer(stop_words='english', binary=True)\n",
        "X_vectorized = vectorizer.fit_transform(X)"
      ],
      "metadata": {
        "id": "4dtaoYZ2UUCB"
      },
      "execution_count": 50,
      "outputs": []
    },
    {
      "cell_type": "code",
      "source": [
        "X_train, X_test, y_train, y_test = train_test_split(X_vectorized, y, test_size=0.2, random_state=42)"
      ],
      "metadata": {
        "id": "HICpP49hWAls"
      },
      "execution_count": 51,
      "outputs": []
    },
    {
      "cell_type": "code",
      "source": [
        "ber_nb = BernoulliNB()\n",
        "ber_nb.fit(X_train, y_train)\n",
        "y_pred_bernoulli = ber_nb.predict(X_test)"
      ],
      "metadata": {
        "id": "cS-P1Y6eaDwF"
      },
      "execution_count": 52,
      "outputs": []
    },
    {
      "cell_type": "code",
      "source": [
        "mul_nb = MultinomialNB()\n",
        "mul_nb.fit(X_train, y_train)\n",
        "y_pred_multinomial = mul_nb.predict(X_test)"
      ],
      "metadata": {
        "id": "cNDJ-KZebHrd"
      },
      "execution_count": 53,
      "outputs": []
    },
    {
      "cell_type": "code",
      "source": [
        "print(\"Độ chính xác của Bernoulli Naive Bayes:\", accuracy_score(y_test, y_pred_bernoulli))\n",
        "print(\"Báo cáo phân loại của Bernoulli Naive Bayes:\\n\", classification_report(y_test, y_pred_bernoulli))\n"
      ],
      "metadata": {
        "colab": {
          "base_uri": "https://localhost:8080/"
        },
        "id": "KiWNZs28bK9i",
        "outputId": "081ca990-6fc6-429e-a50c-be8a862b8528"
      },
      "execution_count": 54,
      "outputs": [
        {
          "output_type": "stream",
          "name": "stdout",
          "text": [
            "Độ chính xác của Bernoulli Naive Bayes: 0.6363636363636364\n",
            "Báo cáo phân loại của Bernoulli Naive Bayes:\n",
            "               precision    recall  f1-score   support\n",
            "\n",
            "           0       0.50      1.00      0.67         4\n",
            "           1       1.00      0.43      0.60         7\n",
            "\n",
            "    accuracy                           0.64        11\n",
            "   macro avg       0.75      0.71      0.63        11\n",
            "weighted avg       0.82      0.64      0.62        11\n",
            "\n"
          ]
        }
      ]
    },
    {
      "cell_type": "code",
      "source": [
        "print(\"Độ chính xác của Multinomial Naive Bayes:\", accuracy_score(y_test, y_pred_multinomial))\n",
        "print(\"Multinomial Naive Bayes Classification Report:\\n\", classification_report(y_test, y_pred_multinomial))"
      ],
      "metadata": {
        "colab": {
          "base_uri": "https://localhost:8080/"
        },
        "id": "9-t143JEbW5G",
        "outputId": "1e4d91e3-43e5-40a5-e3ed-fbcfd0c3bc3a"
      },
      "execution_count": 55,
      "outputs": [
        {
          "output_type": "stream",
          "name": "stdout",
          "text": [
            "Độ chính xác của Multinomial Naive Bayes: 0.6363636363636364\n",
            "Multinomial Naive Bayes Classification Report:\n",
            "               precision    recall  f1-score   support\n",
            "\n",
            "           0       0.50      0.75      0.60         4\n",
            "           1       0.80      0.57      0.67         7\n",
            "\n",
            "    accuracy                           0.64        11\n",
            "   macro avg       0.65      0.66      0.63        11\n",
            "weighted avg       0.69      0.64      0.64        11\n",
            "\n"
          ]
        }
      ]
    }
  ]
}